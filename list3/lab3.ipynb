{
 "cells": [
  {
   "cell_type": "code",
   "execution_count": 1,
   "id": "initial_id",
   "metadata": {
    "ExecuteTime": {
     "end_time": "2023-10-30T16:00:50.436504500Z",
     "start_time": "2023-10-30T16:00:50.201000900Z"
    },
    "collapsed": true
   },
   "outputs": [],
   "source": [
    "import numpy as np\n",
    "import pandas\n",
    "from sklearn.preprocessing import Normalizer\n",
    "from ucimlrepo import fetch_ucirepo\n",
    "from sklearn.model_selection import train_test_split\n",
    "from sklearn.metrics import accuracy_score, precision_score, recall_score, f1_score"
   ]
  },
  {
   "cell_type": "code",
   "execution_count": 2,
   "id": "e4f39afa8af6bc75",
   "metadata": {
    "ExecuteTime": {
     "end_time": "2023-10-30T16:00:51.699323400Z",
     "start_time": "2023-10-30T16:00:50.217148600Z"
    },
    "collapsed": false
   },
   "outputs": [],
   "source": [
    "# Get data\n",
    "heart_disease = fetch_ucirepo(id=45)\n",
    "\n",
    "X = heart_disease.data.features\n",
    "y = heart_disease.data.targets\n",
    "\n",
    "# deleting rows with nan\n",
    "X['y']=y\n",
    "X=X.dropna(how='any')\n",
    "y=X['y']\n",
    "X=X.drop('y', axis=1)\n",
    "\n",
    "y = y.replace([2, 3, 4], 1)"
   ]
  },
  {
   "cell_type": "code",
   "execution_count": 3,
   "id": "a2193f4afa375678",
   "metadata": {
    "ExecuteTime": {
     "end_time": "2023-10-30T16:00:51.761617800Z",
     "start_time": "2023-10-30T16:00:51.746021500Z"
    },
    "collapsed": false
   },
   "outputs": [],
   "source": [
    "# Transforming categorical values into binary, one-hot encoded values\n",
    "X = pandas.get_dummies(X, columns=['sex', 'cp', 'fbs', 'restecg', 'exang', 'slope', 'thal'], dtype=float)"
   ]
  },
  {
   "cell_type": "code",
   "execution_count": 4,
   "id": "308fe4c827835efa",
   "metadata": {
    "ExecuteTime": {
     "end_time": "2023-10-30T16:00:51.867303400Z",
     "start_time": "2023-10-30T16:00:51.839736600Z"
    },
    "collapsed": false
   },
   "outputs": [],
   "source": [
    "normalizer = Normalizer().fit(X)\n",
    "X_nm = normalizer.transform(X)\n",
    "X_nm = pandas.DataFrame(X_nm, columns=X.columns)"
   ]
  },
  {
   "cell_type": "code",
   "execution_count": 5,
   "id": "add896a2db1ba53c",
   "metadata": {
    "ExecuteTime": {
     "end_time": "2023-10-30T16:00:51.882931300Z",
     "start_time": "2023-10-30T16:00:51.859626Z"
    },
    "collapsed": false
   },
   "outputs": [],
   "source": [
    "X_train, X_test, Y_train, Y_test = train_test_split(X_nm, y, test_size=0.25, random_state=65)"
   ]
  },
  {
   "cell_type": "code",
   "execution_count": 6,
   "id": "f155889a",
   "metadata": {},
   "outputs": [],
   "source": [
    "def predict(X):\n",
    "    predictions = []\n",
    "    for i in range(len(X)): \n",
    "        values = forward_propagation(X.iloc[i].values)\n",
    "        predicted_classes = [int(i > 0.5) for i in values[-1][0]]\n",
    "        predictions.append(predicted_classes)\n",
    "    return predictions"
   ]
  },
  {
   "cell_type": "code",
   "execution_count": 7,
   "id": "54464502",
   "metadata": {},
   "outputs": [],
   "source": [
    "def calculate_metrics():\n",
    "    Y_pred = predict(X_test)\n",
    "\n",
    "    predicted_values = []\n",
    "    for y in Y_pred:\n",
    "        if y[0] <= 0.5:\n",
    "            predicted_values.append(0)\n",
    "        else:\n",
    "            predicted_values.append(1)\n",
    "\n",
    "    print(f\"Accuracy:\", accuracy_score(Y_test, predicted_values))\n",
    "    print(f\"Precision:\", precision_score(Y_test, predicted_values, average='binary'))\n",
    "    print(f\"F-Score:\", f1_score(Y_test, predicted_values, average='binary'))"
   ]
  },
  {
   "cell_type": "code",
   "execution_count": 8,
   "id": "f2d36362",
   "metadata": {},
   "outputs": [],
   "source": [
    "# Initialize weights and bias\n",
    "W = []\n",
    "b = []\n",
    "\n",
    "def create_neuron_network(input_size, neurons_per_layer, output_size):\n",
    "    global W, b\n",
    "    W = []\n",
    "    b = []\n",
    "    \n",
    "    layer_sizes = [input_size] + neurons_per_layer + [output_size]\n",
    "\n",
    "    for i in range(len(layer_sizes) - 1):\n",
    "        layer_W = np.random.rand(layer_sizes[i], layer_sizes[i + 1])\n",
    "        layer_b = np.random.rand(1, layer_sizes[i + 1])\n",
    "        W.append(layer_W)\n",
    "        b.append(layer_b)"
   ]
  },
  {
   "cell_type": "code",
   "execution_count": 9,
   "id": "8c5f24d9",
   "metadata": {},
   "outputs": [],
   "source": [
    "def sigmoid(z):\n",
    "    return 1 / (1 + np.exp(-z))\n",
    "\n",
    "def sigmoid_derivative(z):\n",
    "    return z * (1 - z)"
   ]
  },
  {
   "cell_type": "code",
   "execution_count": 10,
   "id": "5fcc6864",
   "metadata": {},
   "outputs": [],
   "source": [
    "def forward_propagation(X):\n",
    "    calculated_outputs = [np.array([X])]\n",
    "\n",
    "    for i in range(len(W)):\n",
    "        layer_output = sigmoid(calculated_outputs[-1].dot(W[i]) + b[i])\n",
    "        calculated_outputs.append(layer_output)\n",
    "\n",
    "    return calculated_outputs"
   ]
  },
  {
   "cell_type": "code",
   "execution_count": 11,
   "id": "5005503e",
   "metadata": {},
   "outputs": [],
   "source": [
    "def backward(X, y, calculated_outputs, learning_rate):\n",
    "    deltas_for_layers = [(calculated_outputs[-1] - y) * sigmoid_derivative(calculated_outputs[-1])]\n",
    "\n",
    "    for i in range(len(W) - 1, 0, -1):\n",
    "        layer_delta = deltas_for_layers[-1].dot(W[i].T)\n",
    "        layer_delta = layer_delta * sigmoid_derivative(calculated_outputs[i])\n",
    "        deltas_for_layers.append(layer_delta)\n",
    "\n",
    "    deltas_for_layers.reverse()\n",
    "    \n",
    "    for i in range(len(W)):\n",
    "        W[i] -= calculated_outputs[i].T.dot(deltas_for_layers[i]) * learning_rate\n",
    "        b[i] -= np.sum(deltas_for_layers[i], axis=0, keepdims=True) * learning_rate"
   ]
  },
  {
   "cell_type": "code",
   "execution_count": 12,
   "id": "a45ca287678c911a",
   "metadata": {
    "ExecuteTime": {
     "end_time": "2023-10-30T16:01:14.286323500Z",
     "start_time": "2023-10-30T16:01:14.270702800Z"
    },
    "collapsed": false
   },
   "outputs": [],
   "source": [
    "def train(X, y, epochs, learning_rate):\n",
    "    for epoch in range(epochs):\n",
    "        for i in range(len(X)):\n",
    "            values = forward_propagation(X.iloc[i].values)\n",
    "            backward(X.iloc[i].values, y.iloc[i], values, learning_rate)\n",
    "        # if epoch % 50 == 0:\n",
    "        #     print(f\"Epoch {epoch}\")"
   ]
  },
  {
   "cell_type": "code",
   "execution_count": 13,
   "id": "85db85b5",
   "metadata": {},
   "outputs": [],
   "source": [
    "epochs_list = [10, 100, 200, 500, 1000, 2000, 5000]\n",
    "learning_rates_list = [0.01, 0.1, 1, 2, 5, 10, 100]"
   ]
  },
  {
   "cell_type": "code",
   "execution_count": 18,
   "id": "6e0ee0d6",
   "metadata": {},
   "outputs": [
    {
     "name": "stdout",
     "output_type": "stream",
     "text": [
      "5000 2\n",
      "Accuracy: 0.68\n",
      "Precision: 0.6875\n",
      "F-Score: 0.6470588235294118\n"
     ]
    }
   ],
   "source": [
    "create_neuron_network(25, [16, 8], 1)\n",
    "train(X_train, Y_train, 3000, 5)\n",
    "print(5000, 2)\n",
    "calculate_metrics()"
   ]
  },
  {
   "cell_type": "code",
   "execution_count": 15,
   "id": "322490a3",
   "metadata": {},
   "outputs": [
    {
     "ename": "KeyboardInterrupt",
     "evalue": "",
     "output_type": "error",
     "traceback": [
      "\u001b[1;31m---------------------------------------------------------------------------\u001b[0m",
      "\u001b[1;31mKeyboardInterrupt\u001b[0m                         Traceback (most recent call last)",
      "\u001b[1;32mc:\\Users\\505ry\\Desktop\\sieci neuronowe\\list3\\lab3.ipynb Cell 15\u001b[0m line \u001b[0;36m2\n\u001b[0;32m      <a href='vscode-notebook-cell:/c%3A/Users/505ry/Desktop/sieci%20neuronowe/list3/lab3.ipynb#X20sZmlsZQ%3D%3D?line=0'>1</a>\u001b[0m create_neuron_network(\u001b[39m25\u001b[39m, [\u001b[39m15\u001b[39m, \u001b[39m7\u001b[39m], \u001b[39m1\u001b[39m)\n\u001b[1;32m----> <a href='vscode-notebook-cell:/c%3A/Users/505ry/Desktop/sieci%20neuronowe/list3/lab3.ipynb#X20sZmlsZQ%3D%3D?line=1'>2</a>\u001b[0m train(X_train, Y_train, \u001b[39m2500\u001b[39;49m, \u001b[39m2\u001b[39;49m)\n\u001b[0;32m      <a href='vscode-notebook-cell:/c%3A/Users/505ry/Desktop/sieci%20neuronowe/list3/lab3.ipynb#X20sZmlsZQ%3D%3D?line=2'>3</a>\u001b[0m \u001b[39mprint\u001b[39m(\u001b[39m5000\u001b[39m, \u001b[39m2\u001b[39m)\n\u001b[0;32m      <a href='vscode-notebook-cell:/c%3A/Users/505ry/Desktop/sieci%20neuronowe/list3/lab3.ipynb#X20sZmlsZQ%3D%3D?line=3'>4</a>\u001b[0m calculate_metrics()\n",
      "\u001b[1;32mc:\\Users\\505ry\\Desktop\\sieci neuronowe\\list3\\lab3.ipynb Cell 15\u001b[0m line \u001b[0;36m5\n\u001b[0;32m      <a href='vscode-notebook-cell:/c%3A/Users/505ry/Desktop/sieci%20neuronowe/list3/lab3.ipynb#X20sZmlsZQ%3D%3D?line=2'>3</a>\u001b[0m \u001b[39mfor\u001b[39;00m i \u001b[39min\u001b[39;00m \u001b[39mrange\u001b[39m(\u001b[39mlen\u001b[39m(X)):\n\u001b[0;32m      <a href='vscode-notebook-cell:/c%3A/Users/505ry/Desktop/sieci%20neuronowe/list3/lab3.ipynb#X20sZmlsZQ%3D%3D?line=3'>4</a>\u001b[0m     values \u001b[39m=\u001b[39m forward_propagation(X\u001b[39m.\u001b[39miloc[i]\u001b[39m.\u001b[39mvalues)\n\u001b[1;32m----> <a href='vscode-notebook-cell:/c%3A/Users/505ry/Desktop/sieci%20neuronowe/list3/lab3.ipynb#X20sZmlsZQ%3D%3D?line=4'>5</a>\u001b[0m     backward(X\u001b[39m.\u001b[39;49miloc[i]\u001b[39m.\u001b[39;49mvalues, y\u001b[39m.\u001b[39;49miloc[i], values, learning_rate)\n",
      "\u001b[1;32mc:\\Users\\505ry\\Desktop\\sieci neuronowe\\list3\\lab3.ipynb Cell 15\u001b[0m line \u001b[0;36m1\n\u001b[0;32m      <a href='vscode-notebook-cell:/c%3A/Users/505ry/Desktop/sieci%20neuronowe/list3/lab3.ipynb#X20sZmlsZQ%3D%3D?line=8'>9</a>\u001b[0m deltas_for_layers\u001b[39m.\u001b[39mreverse()\n\u001b[0;32m     <a href='vscode-notebook-cell:/c%3A/Users/505ry/Desktop/sieci%20neuronowe/list3/lab3.ipynb#X20sZmlsZQ%3D%3D?line=10'>11</a>\u001b[0m \u001b[39mfor\u001b[39;00m i \u001b[39min\u001b[39;00m \u001b[39mrange\u001b[39m(\u001b[39mlen\u001b[39m(W)):\n\u001b[1;32m---> <a href='vscode-notebook-cell:/c%3A/Users/505ry/Desktop/sieci%20neuronowe/list3/lab3.ipynb#X20sZmlsZQ%3D%3D?line=11'>12</a>\u001b[0m     W[i] \u001b[39m-\u001b[39m\u001b[39m=\u001b[39m calculated_outputs[i]\u001b[39m.\u001b[39mT\u001b[39m.\u001b[39mdot(deltas_for_layers[i]) \u001b[39m*\u001b[39m learning_rate\n\u001b[0;32m     <a href='vscode-notebook-cell:/c%3A/Users/505ry/Desktop/sieci%20neuronowe/list3/lab3.ipynb#X20sZmlsZQ%3D%3D?line=12'>13</a>\u001b[0m     b[i] \u001b[39m-\u001b[39m\u001b[39m=\u001b[39m np\u001b[39m.\u001b[39msum(deltas_for_layers[i], axis\u001b[39m=\u001b[39m\u001b[39m0\u001b[39m, keepdims\u001b[39m=\u001b[39m\u001b[39mTrue\u001b[39;00m) \u001b[39m*\u001b[39m learning_rate\n",
      "\u001b[1;31mKeyboardInterrupt\u001b[0m: "
     ]
    }
   ],
   "source": [
    "create_neuron_network(25, [15, 7], 1)\n",
    "train(X_train, Y_train, 2500, 2)\n",
    "print(5000, 2)\n",
    "calculate_metrics()"
   ]
  },
  {
   "cell_type": "code",
   "execution_count": 29,
   "id": "b230b089",
   "metadata": {},
   "outputs": [
    {
     "name": "stdout",
     "output_type": "stream",
     "text": [
      "Epoch 0\n",
      "Epoch 50\n",
      "Epoch 100\n",
      "Epoch 150\n",
      "Epoch 200\n",
      "Epoch 250\n",
      "Epoch 300\n",
      "Epoch 350\n",
      "Epoch 400\n",
      "Epoch 450\n",
      "Epoch 500\n",
      "Epoch 550\n",
      "Epoch 600\n",
      "Epoch 650\n",
      "Epoch 700\n",
      "Epoch 750\n",
      "Epoch 800\n",
      "Epoch 850\n",
      "Epoch 900\n",
      "Epoch 950\n",
      "Epoch 1000\n",
      "Epoch 1050\n",
      "Epoch 1100\n",
      "Epoch 1150\n",
      "Epoch 1200\n",
      "Epoch 1250\n",
      "Epoch 1300\n",
      "Epoch 1350\n",
      "Epoch 1400\n",
      "Epoch 1450\n",
      "Epoch 1500\n",
      "Epoch 1550\n",
      "Epoch 1600\n",
      "Epoch 1650\n",
      "Epoch 1700\n",
      "Epoch 1750\n",
      "Epoch 1800\n",
      "Epoch 1850\n",
      "Epoch 1900\n",
      "Epoch 1950\n",
      "Epoch 2000\n",
      "Epoch 2050\n",
      "Epoch 2100\n",
      "Epoch 2150\n",
      "Epoch 2200\n",
      "Epoch 2250\n",
      "Epoch 2300\n",
      "Epoch 2350\n",
      "Epoch 2400\n",
      "Epoch 2450\n",
      "5000 2\n",
      "Accuracy: 0.6933333333333334\n",
      "Precision: 0.696969696969697\n",
      "F-Score: 0.6666666666666666\n"
     ]
    }
   ],
   "source": [
    "create_neuron_network(25, [16, 7], 1)\n",
    "train(X_train, Y_train, 2500, 2)\n",
    "print(5000, 2)\n",
    "calculate_metrics()"
   ]
  },
  {
   "cell_type": "code",
   "execution_count": 32,
   "id": "82d8f3d3",
   "metadata": {},
   "outputs": [
    {
     "name": "stdout",
     "output_type": "stream",
     "text": [
      "Epoch 0\n",
      "Epoch 50\n",
      "Epoch 100\n",
      "Epoch 150\n",
      "Epoch 200\n",
      "Epoch 250\n",
      "Epoch 300\n",
      "Epoch 350\n",
      "Epoch 400\n",
      "Epoch 450\n",
      "Epoch 500\n",
      "Epoch 550\n",
      "Epoch 600\n",
      "Epoch 650\n",
      "Epoch 700\n",
      "Epoch 750\n",
      "Epoch 800\n",
      "Epoch 850\n",
      "Epoch 900\n",
      "Epoch 950\n",
      "Epoch 1000\n",
      "Epoch 1050\n",
      "Epoch 1100\n",
      "Epoch 1150\n",
      "Epoch 1200\n",
      "Epoch 1250\n",
      "Epoch 1300\n",
      "Epoch 1350\n",
      "Epoch 1400\n",
      "Epoch 1450\n",
      "Epoch 1500\n",
      "Epoch 1550\n",
      "Epoch 1600\n",
      "Epoch 1650\n",
      "Epoch 1700\n",
      "Epoch 1750\n",
      "Epoch 1800\n",
      "Epoch 1850\n",
      "Epoch 1900\n",
      "Epoch 1950\n",
      "Epoch 2000\n",
      "Epoch 2050\n",
      "Epoch 2100\n",
      "Epoch 2150\n",
      "Epoch 2200\n",
      "Epoch 2250\n",
      "Epoch 2300\n",
      "Epoch 2350\n",
      "Epoch 2400\n",
      "Epoch 2450\n",
      "2500 2\n",
      "Accuracy: 0.52\n",
      "Precision: 0.0\n",
      "F-Score: 0.0\n"
     ]
    },
    {
     "name": "stderr",
     "output_type": "stream",
     "text": [
      "c:\\Users\\505ry\\AppData\\Local\\Programs\\Python\\Python311\\Lib\\site-packages\\sklearn\\metrics\\_classification.py:1469: UndefinedMetricWarning: Precision is ill-defined and being set to 0.0 due to no predicted samples. Use `zero_division` parameter to control this behavior.\n",
      "  _warn_prf(average, modifier, msg_start, len(result))\n"
     ]
    }
   ],
   "source": [
    "create_neuron_network(25, [10, 10, 3], 1)\n",
    "train(X_train, Y_train, 2500, 2)\n",
    "print(2500, 2)\n",
    "calculate_metrics()"
   ]
  },
  {
   "cell_type": "code",
   "execution_count": 30,
   "id": "b6d1a94b",
   "metadata": {},
   "outputs": [
    {
     "name": "stdout",
     "output_type": "stream",
     "text": [
      "Epoch 0\n",
      "Epoch 50\n",
      "Epoch 100\n",
      "Epoch 150\n",
      "Epoch 200\n",
      "Epoch 250\n",
      "Epoch 300\n",
      "Epoch 350\n",
      "Epoch 400\n",
      "Epoch 450\n",
      "Epoch 500\n",
      "Epoch 550\n",
      "Epoch 600\n",
      "Epoch 650\n",
      "Epoch 700\n",
      "Epoch 750\n",
      "Epoch 800\n",
      "Epoch 850\n",
      "Epoch 900\n",
      "Epoch 950\n",
      "Epoch 1000\n",
      "Epoch 1050\n",
      "Epoch 1100\n",
      "Epoch 1150\n",
      "Epoch 1200\n",
      "Epoch 1250\n",
      "Epoch 1300\n",
      "Epoch 1350\n",
      "Epoch 1400\n",
      "Epoch 1450\n",
      "Epoch 1500\n",
      "Epoch 1550\n",
      "Epoch 1600\n",
      "Epoch 1650\n",
      "Epoch 1700\n",
      "Epoch 1750\n",
      "Epoch 1800\n",
      "Epoch 1850\n",
      "Epoch 1900\n",
      "Epoch 1950\n",
      "Epoch 2000\n",
      "Epoch 2050\n",
      "Epoch 2100\n",
      "Epoch 2150\n",
      "Epoch 2200\n",
      "Epoch 2250\n",
      "Epoch 2300\n",
      "Epoch 2350\n",
      "Epoch 2400\n",
      "Epoch 2450\n",
      "5000 2\n",
      "Accuracy: 0.6933333333333334\n",
      "Precision: 0.7096774193548387\n",
      "F-Score: 0.6567164179104478\n"
     ]
    }
   ],
   "source": [
    "create_neuron_network(25, [15, 8], 1)\n",
    "train(X_train, Y_train, 2500, 2)\n",
    "print(5000, 2)\n",
    "calculate_metrics()"
   ]
  },
  {
   "cell_type": "code",
   "execution_count": null,
   "id": "9ab94048",
   "metadata": {},
   "outputs": [
    {
     "name": "stdout",
     "output_type": "stream",
     "text": [
      "10 0.01\n",
      "Accuracy: 0.52\n",
      "Precision: 0.0\n",
      "F-Score: 0.0\n"
     ]
    },
    {
     "name": "stderr",
     "output_type": "stream",
     "text": [
      "c:\\Users\\505ry\\AppData\\Local\\Programs\\Python\\Python311\\Lib\\site-packages\\sklearn\\metrics\\_classification.py:1469: UndefinedMetricWarning: Precision is ill-defined and being set to 0.0 due to no predicted samples. Use `zero_division` parameter to control this behavior.\n",
      "  _warn_prf(average, modifier, msg_start, len(result))\n"
     ]
    },
    {
     "name": "stdout",
     "output_type": "stream",
     "text": [
      "10 0.1\n",
      "Accuracy: 0.52\n",
      "Precision: 0.0\n",
      "F-Score: 0.0\n"
     ]
    },
    {
     "name": "stderr",
     "output_type": "stream",
     "text": [
      "c:\\Users\\505ry\\AppData\\Local\\Programs\\Python\\Python311\\Lib\\site-packages\\sklearn\\metrics\\_classification.py:1469: UndefinedMetricWarning: Precision is ill-defined and being set to 0.0 due to no predicted samples. Use `zero_division` parameter to control this behavior.\n",
      "  _warn_prf(average, modifier, msg_start, len(result))\n"
     ]
    },
    {
     "name": "stdout",
     "output_type": "stream",
     "text": [
      "10 1\n",
      "Accuracy: 0.52\n",
      "Precision: 0.0\n",
      "F-Score: 0.0\n"
     ]
    },
    {
     "name": "stderr",
     "output_type": "stream",
     "text": [
      "c:\\Users\\505ry\\AppData\\Local\\Programs\\Python\\Python311\\Lib\\site-packages\\sklearn\\metrics\\_classification.py:1469: UndefinedMetricWarning: Precision is ill-defined and being set to 0.0 due to no predicted samples. Use `zero_division` parameter to control this behavior.\n",
      "  _warn_prf(average, modifier, msg_start, len(result))\n"
     ]
    },
    {
     "name": "stdout",
     "output_type": "stream",
     "text": [
      "10 2\n",
      "Accuracy: 0.52\n",
      "Precision: 0.0\n",
      "F-Score: 0.0\n"
     ]
    },
    {
     "name": "stderr",
     "output_type": "stream",
     "text": [
      "c:\\Users\\505ry\\AppData\\Local\\Programs\\Python\\Python311\\Lib\\site-packages\\sklearn\\metrics\\_classification.py:1469: UndefinedMetricWarning: Precision is ill-defined and being set to 0.0 due to no predicted samples. Use `zero_division` parameter to control this behavior.\n",
      "  _warn_prf(average, modifier, msg_start, len(result))\n"
     ]
    },
    {
     "name": "stdout",
     "output_type": "stream",
     "text": [
      "10 5\n",
      "Accuracy: 0.52\n",
      "Precision: 0.0\n",
      "F-Score: 0.0\n"
     ]
    },
    {
     "name": "stderr",
     "output_type": "stream",
     "text": [
      "c:\\Users\\505ry\\AppData\\Local\\Programs\\Python\\Python311\\Lib\\site-packages\\sklearn\\metrics\\_classification.py:1469: UndefinedMetricWarning: Precision is ill-defined and being set to 0.0 due to no predicted samples. Use `zero_division` parameter to control this behavior.\n",
      "  _warn_prf(average, modifier, msg_start, len(result))\n"
     ]
    },
    {
     "name": "stdout",
     "output_type": "stream",
     "text": [
      "10 10\n",
      "Accuracy: 0.48\n",
      "Precision: 0.48\n",
      "F-Score: 0.6486486486486487\n",
      "10 100\n",
      "Accuracy: 0.48\n",
      "Precision: 0.48\n",
      "F-Score: 0.6486486486486487\n",
      "100 0.01\n",
      "Accuracy: 0.52\n",
      "Precision: 0.0\n",
      "F-Score: 0.0\n"
     ]
    },
    {
     "name": "stderr",
     "output_type": "stream",
     "text": [
      "c:\\Users\\505ry\\AppData\\Local\\Programs\\Python\\Python311\\Lib\\site-packages\\sklearn\\metrics\\_classification.py:1469: UndefinedMetricWarning: Precision is ill-defined and being set to 0.0 due to no predicted samples. Use `zero_division` parameter to control this behavior.\n",
      "  _warn_prf(average, modifier, msg_start, len(result))\n"
     ]
    },
    {
     "name": "stdout",
     "output_type": "stream",
     "text": [
      "100 0.1\n",
      "Accuracy: 0.52\n",
      "Precision: 0.0\n",
      "F-Score: 0.0\n"
     ]
    },
    {
     "name": "stderr",
     "output_type": "stream",
     "text": [
      "c:\\Users\\505ry\\AppData\\Local\\Programs\\Python\\Python311\\Lib\\site-packages\\sklearn\\metrics\\_classification.py:1469: UndefinedMetricWarning: Precision is ill-defined and being set to 0.0 due to no predicted samples. Use `zero_division` parameter to control this behavior.\n",
      "  _warn_prf(average, modifier, msg_start, len(result))\n"
     ]
    },
    {
     "name": "stdout",
     "output_type": "stream",
     "text": [
      "100 1\n",
      "Accuracy: 0.52\n",
      "Precision: 0.0\n",
      "F-Score: 0.0\n"
     ]
    },
    {
     "name": "stderr",
     "output_type": "stream",
     "text": [
      "c:\\Users\\505ry\\AppData\\Local\\Programs\\Python\\Python311\\Lib\\site-packages\\sklearn\\metrics\\_classification.py:1469: UndefinedMetricWarning: Precision is ill-defined and being set to 0.0 due to no predicted samples. Use `zero_division` parameter to control this behavior.\n",
      "  _warn_prf(average, modifier, msg_start, len(result))\n"
     ]
    },
    {
     "name": "stdout",
     "output_type": "stream",
     "text": [
      "100 2\n",
      "Accuracy: 0.52\n",
      "Precision: 0.0\n",
      "F-Score: 0.0\n"
     ]
    },
    {
     "name": "stderr",
     "output_type": "stream",
     "text": [
      "c:\\Users\\505ry\\AppData\\Local\\Programs\\Python\\Python311\\Lib\\site-packages\\sklearn\\metrics\\_classification.py:1469: UndefinedMetricWarning: Precision is ill-defined and being set to 0.0 due to no predicted samples. Use `zero_division` parameter to control this behavior.\n",
      "  _warn_prf(average, modifier, msg_start, len(result))\n"
     ]
    },
    {
     "name": "stdout",
     "output_type": "stream",
     "text": [
      "100 5\n",
      "Accuracy: 0.52\n",
      "Precision: 0.0\n",
      "F-Score: 0.0\n"
     ]
    },
    {
     "name": "stderr",
     "output_type": "stream",
     "text": [
      "c:\\Users\\505ry\\AppData\\Local\\Programs\\Python\\Python311\\Lib\\site-packages\\sklearn\\metrics\\_classification.py:1469: UndefinedMetricWarning: Precision is ill-defined and being set to 0.0 due to no predicted samples. Use `zero_division` parameter to control this behavior.\n",
      "  _warn_prf(average, modifier, msg_start, len(result))\n"
     ]
    },
    {
     "name": "stdout",
     "output_type": "stream",
     "text": [
      "100 10\n",
      "Accuracy: 0.52\n",
      "Precision: 0.0\n",
      "F-Score: 0.0\n"
     ]
    },
    {
     "name": "stderr",
     "output_type": "stream",
     "text": [
      "c:\\Users\\505ry\\AppData\\Local\\Programs\\Python\\Python311\\Lib\\site-packages\\sklearn\\metrics\\_classification.py:1469: UndefinedMetricWarning: Precision is ill-defined and being set to 0.0 due to no predicted samples. Use `zero_division` parameter to control this behavior.\n",
      "  _warn_prf(average, modifier, msg_start, len(result))\n"
     ]
    },
    {
     "name": "stdout",
     "output_type": "stream",
     "text": [
      "100 100\n",
      "Accuracy: 0.48\n",
      "Precision: 0.48\n",
      "F-Score: 0.6486486486486487\n",
      "200 0.01\n",
      "Accuracy: 0.52\n",
      "Precision: 0.0\n",
      "F-Score: 0.0\n"
     ]
    },
    {
     "name": "stderr",
     "output_type": "stream",
     "text": [
      "c:\\Users\\505ry\\AppData\\Local\\Programs\\Python\\Python311\\Lib\\site-packages\\sklearn\\metrics\\_classification.py:1469: UndefinedMetricWarning: Precision is ill-defined and being set to 0.0 due to no predicted samples. Use `zero_division` parameter to control this behavior.\n",
      "  _warn_prf(average, modifier, msg_start, len(result))\n"
     ]
    },
    {
     "name": "stdout",
     "output_type": "stream",
     "text": [
      "200 0.1\n",
      "Accuracy: 0.52\n",
      "Precision: 0.0\n",
      "F-Score: 0.0\n"
     ]
    },
    {
     "name": "stderr",
     "output_type": "stream",
     "text": [
      "c:\\Users\\505ry\\AppData\\Local\\Programs\\Python\\Python311\\Lib\\site-packages\\sklearn\\metrics\\_classification.py:1469: UndefinedMetricWarning: Precision is ill-defined and being set to 0.0 due to no predicted samples. Use `zero_division` parameter to control this behavior.\n",
      "  _warn_prf(average, modifier, msg_start, len(result))\n"
     ]
    },
    {
     "name": "stdout",
     "output_type": "stream",
     "text": [
      "200 1\n",
      "Accuracy: 0.52\n",
      "Precision: 0.0\n",
      "F-Score: 0.0\n"
     ]
    },
    {
     "name": "stderr",
     "output_type": "stream",
     "text": [
      "c:\\Users\\505ry\\AppData\\Local\\Programs\\Python\\Python311\\Lib\\site-packages\\sklearn\\metrics\\_classification.py:1469: UndefinedMetricWarning: Precision is ill-defined and being set to 0.0 due to no predicted samples. Use `zero_division` parameter to control this behavior.\n",
      "  _warn_prf(average, modifier, msg_start, len(result))\n"
     ]
    },
    {
     "name": "stdout",
     "output_type": "stream",
     "text": [
      "200 2\n",
      "Accuracy: 0.52\n",
      "Precision: 0.0\n",
      "F-Score: 0.0\n"
     ]
    },
    {
     "name": "stderr",
     "output_type": "stream",
     "text": [
      "c:\\Users\\505ry\\AppData\\Local\\Programs\\Python\\Python311\\Lib\\site-packages\\sklearn\\metrics\\_classification.py:1469: UndefinedMetricWarning: Precision is ill-defined and being set to 0.0 due to no predicted samples. Use `zero_division` parameter to control this behavior.\n",
      "  _warn_prf(average, modifier, msg_start, len(result))\n"
     ]
    },
    {
     "name": "stdout",
     "output_type": "stream",
     "text": [
      "200 5\n",
      "Accuracy: 0.52\n",
      "Precision: 0.0\n",
      "F-Score: 0.0\n"
     ]
    },
    {
     "name": "stderr",
     "output_type": "stream",
     "text": [
      "c:\\Users\\505ry\\AppData\\Local\\Programs\\Python\\Python311\\Lib\\site-packages\\sklearn\\metrics\\_classification.py:1469: UndefinedMetricWarning: Precision is ill-defined and being set to 0.0 due to no predicted samples. Use `zero_division` parameter to control this behavior.\n",
      "  _warn_prf(average, modifier, msg_start, len(result))\n"
     ]
    },
    {
     "name": "stdout",
     "output_type": "stream",
     "text": [
      "200 10\n",
      "Accuracy: 0.52\n",
      "Precision: 0.0\n",
      "F-Score: 0.0\n"
     ]
    },
    {
     "name": "stderr",
     "output_type": "stream",
     "text": [
      "c:\\Users\\505ry\\AppData\\Local\\Programs\\Python\\Python311\\Lib\\site-packages\\sklearn\\metrics\\_classification.py:1469: UndefinedMetricWarning: Precision is ill-defined and being set to 0.0 due to no predicted samples. Use `zero_division` parameter to control this behavior.\n",
      "  _warn_prf(average, modifier, msg_start, len(result))\n"
     ]
    },
    {
     "name": "stdout",
     "output_type": "stream",
     "text": [
      "200 100\n",
      "Accuracy: 0.52\n",
      "Precision: 0.0\n",
      "F-Score: 0.0\n"
     ]
    },
    {
     "name": "stderr",
     "output_type": "stream",
     "text": [
      "c:\\Users\\505ry\\AppData\\Local\\Programs\\Python\\Python311\\Lib\\site-packages\\sklearn\\metrics\\_classification.py:1469: UndefinedMetricWarning: Precision is ill-defined and being set to 0.0 due to no predicted samples. Use `zero_division` parameter to control this behavior.\n",
      "  _warn_prf(average, modifier, msg_start, len(result))\n"
     ]
    },
    {
     "name": "stdout",
     "output_type": "stream",
     "text": [
      "500 0.01\n",
      "Accuracy: 0.52\n",
      "Precision: 0.0\n",
      "F-Score: 0.0\n"
     ]
    },
    {
     "name": "stderr",
     "output_type": "stream",
     "text": [
      "c:\\Users\\505ry\\AppData\\Local\\Programs\\Python\\Python311\\Lib\\site-packages\\sklearn\\metrics\\_classification.py:1469: UndefinedMetricWarning: Precision is ill-defined and being set to 0.0 due to no predicted samples. Use `zero_division` parameter to control this behavior.\n",
      "  _warn_prf(average, modifier, msg_start, len(result))\n"
     ]
    },
    {
     "name": "stdout",
     "output_type": "stream",
     "text": [
      "500 0.1\n",
      "Accuracy: 0.52\n",
      "Precision: 0.0\n",
      "F-Score: 0.0\n"
     ]
    },
    {
     "name": "stderr",
     "output_type": "stream",
     "text": [
      "c:\\Users\\505ry\\AppData\\Local\\Programs\\Python\\Python311\\Lib\\site-packages\\sklearn\\metrics\\_classification.py:1469: UndefinedMetricWarning: Precision is ill-defined and being set to 0.0 due to no predicted samples. Use `zero_division` parameter to control this behavior.\n",
      "  _warn_prf(average, modifier, msg_start, len(result))\n"
     ]
    },
    {
     "name": "stdout",
     "output_type": "stream",
     "text": [
      "500 1\n",
      "Accuracy: 0.6933333333333334\n",
      "Precision: 0.7241379310344828\n",
      "F-Score: 0.6461538461538462\n",
      "500 2\n",
      "Accuracy: 0.6666666666666666\n",
      "Precision: 0.6774193548387096\n",
      "F-Score: 0.626865671641791\n",
      "500 5\n",
      "Accuracy: 0.68\n",
      "Precision: 0.6875\n",
      "F-Score: 0.6470588235294118\n",
      "500 10\n",
      "Accuracy: 0.6133333333333333\n",
      "Precision: 0.8181818181818182\n",
      "F-Score: 0.38297872340425526\n",
      "500 100\n",
      "Accuracy: 0.48\n",
      "Precision: 0.48\n",
      "F-Score: 0.6486486486486487\n",
      "1000 0.01\n",
      "Accuracy: 0.52\n",
      "Precision: 0.0\n",
      "F-Score: 0.0\n"
     ]
    },
    {
     "name": "stderr",
     "output_type": "stream",
     "text": [
      "c:\\Users\\505ry\\AppData\\Local\\Programs\\Python\\Python311\\Lib\\site-packages\\sklearn\\metrics\\_classification.py:1469: UndefinedMetricWarning: Precision is ill-defined and being set to 0.0 due to no predicted samples. Use `zero_division` parameter to control this behavior.\n",
      "  _warn_prf(average, modifier, msg_start, len(result))\n"
     ]
    },
    {
     "name": "stdout",
     "output_type": "stream",
     "text": [
      "1000 0.1\n",
      "Accuracy: 0.52\n",
      "Precision: 0.0\n",
      "F-Score: 0.0\n"
     ]
    },
    {
     "name": "stderr",
     "output_type": "stream",
     "text": [
      "c:\\Users\\505ry\\AppData\\Local\\Programs\\Python\\Python311\\Lib\\site-packages\\sklearn\\metrics\\_classification.py:1469: UndefinedMetricWarning: Precision is ill-defined and being set to 0.0 due to no predicted samples. Use `zero_division` parameter to control this behavior.\n",
      "  _warn_prf(average, modifier, msg_start, len(result))\n"
     ]
    },
    {
     "name": "stdout",
     "output_type": "stream",
     "text": [
      "1000 1\n",
      "Accuracy: 0.6933333333333334\n",
      "Precision: 0.7241379310344828\n",
      "F-Score: 0.6461538461538462\n",
      "1000 2\n",
      "Accuracy: 0.68\n",
      "Precision: 0.6875\n",
      "F-Score: 0.6470588235294118\n",
      "1000 5\n",
      "Accuracy: 0.6933333333333334\n",
      "Precision: 0.7407407407407407\n",
      "F-Score: 0.634920634920635\n",
      "1000 10\n",
      "Accuracy: 0.52\n",
      "Precision: 0.0\n",
      "F-Score: 0.0\n"
     ]
    },
    {
     "name": "stderr",
     "output_type": "stream",
     "text": [
      "c:\\Users\\505ry\\AppData\\Local\\Programs\\Python\\Python311\\Lib\\site-packages\\sklearn\\metrics\\_classification.py:1469: UndefinedMetricWarning: Precision is ill-defined and being set to 0.0 due to no predicted samples. Use `zero_division` parameter to control this behavior.\n",
      "  _warn_prf(average, modifier, msg_start, len(result))\n"
     ]
    },
    {
     "name": "stdout",
     "output_type": "stream",
     "text": [
      "1000 100\n",
      "Accuracy: 0.48\n",
      "Precision: 0.48\n",
      "F-Score: 0.6486486486486487\n",
      "2000 0.01\n",
      "Accuracy: 0.52\n",
      "Precision: 0.0\n",
      "F-Score: 0.0\n"
     ]
    },
    {
     "name": "stderr",
     "output_type": "stream",
     "text": [
      "c:\\Users\\505ry\\AppData\\Local\\Programs\\Python\\Python311\\Lib\\site-packages\\sklearn\\metrics\\_classification.py:1469: UndefinedMetricWarning: Precision is ill-defined and being set to 0.0 due to no predicted samples. Use `zero_division` parameter to control this behavior.\n",
      "  _warn_prf(average, modifier, msg_start, len(result))\n"
     ]
    },
    {
     "name": "stdout",
     "output_type": "stream",
     "text": [
      "2000 0.1\n",
      "Accuracy: 0.6933333333333334\n",
      "Precision: 0.7096774193548387\n",
      "F-Score: 0.6567164179104478\n",
      "2000 1\n",
      "Accuracy: 0.6666666666666666\n",
      "Precision: 0.6666666666666666\n",
      "F-Score: 0.6376811594202899\n",
      "2000 2\n",
      "Accuracy: 0.68\n",
      "Precision: 0.6875\n",
      "F-Score: 0.6470588235294118\n",
      "2000 5\n",
      "Accuracy: 0.7066666666666667\n",
      "Precision: 0.75\n",
      "F-Score: 0.6562499999999999\n",
      "2000 10\n",
      "Accuracy: 0.52\n",
      "Precision: 0.0\n",
      "F-Score: 0.0\n"
     ]
    },
    {
     "name": "stderr",
     "output_type": "stream",
     "text": [
      "c:\\Users\\505ry\\AppData\\Local\\Programs\\Python\\Python311\\Lib\\site-packages\\sklearn\\metrics\\_classification.py:1469: UndefinedMetricWarning: Precision is ill-defined and being set to 0.0 due to no predicted samples. Use `zero_division` parameter to control this behavior.\n",
      "  _warn_prf(average, modifier, msg_start, len(result))\n"
     ]
    },
    {
     "name": "stdout",
     "output_type": "stream",
     "text": [
      "2000 100\n",
      "Accuracy: 0.48\n",
      "Precision: 0.48\n",
      "F-Score: 0.6486486486486487\n",
      "5000 0.01\n",
      "Accuracy: 0.52\n",
      "Precision: 0.0\n",
      "F-Score: 0.0\n"
     ]
    },
    {
     "name": "stderr",
     "output_type": "stream",
     "text": [
      "c:\\Users\\505ry\\AppData\\Local\\Programs\\Python\\Python311\\Lib\\site-packages\\sklearn\\metrics\\_classification.py:1469: UndefinedMetricWarning: Precision is ill-defined and being set to 0.0 due to no predicted samples. Use `zero_division` parameter to control this behavior.\n",
      "  _warn_prf(average, modifier, msg_start, len(result))\n"
     ]
    }
   ],
   "source": [
    "for e in epochs_list:\n",
    "    for lr in learning_rates_list:\n",
    "        create_neuron_network(25, [16, 8], 1)\n",
    "        train(X_train, Y_train, e, lr)\n",
    "        print(e, lr)\n",
    "        calculate_metrics()"
   ]
  },
  {
   "cell_type": "code",
   "execution_count": 34,
   "id": "4b047183",
   "metadata": {},
   "outputs": [
    {
     "name": "stdout",
     "output_type": "stream",
     "text": [
      "Epoch 0\n",
      "Epoch 50\n",
      "Epoch 100\n",
      "Epoch 150\n",
      "Epoch 200\n",
      "Epoch 250\n",
      "Epoch 300\n",
      "Epoch 350\n",
      "Epoch 400\n",
      "Epoch 450\n",
      "Epoch 500\n",
      "Epoch 550\n",
      "Epoch 600\n",
      "Epoch 650\n",
      "Epoch 700\n",
      "Epoch 750\n",
      "Epoch 800\n",
      "Epoch 850\n",
      "Epoch 900\n",
      "Epoch 950\n",
      "[6, 6, 6] 1000 2\n",
      "Accuracy: 0.6933333333333334\n",
      "Precision: 0.7096774193548387\n",
      "F-Score: 0.6567164179104478\n",
      "Epoch 0\n",
      "Epoch 50\n",
      "Epoch 100\n",
      "Epoch 150\n",
      "Epoch 200\n",
      "Epoch 250\n",
      "Epoch 300\n",
      "Epoch 350\n",
      "Epoch 400\n",
      "Epoch 450\n",
      "Epoch 500\n",
      "Epoch 550\n",
      "Epoch 600\n",
      "Epoch 650\n",
      "Epoch 700\n",
      "Epoch 750\n",
      "Epoch 800\n",
      "Epoch 850\n",
      "Epoch 900\n",
      "Epoch 950\n",
      "[8, 8, 8] 1000 2\n",
      "Accuracy: 0.6666666666666666\n",
      "Precision: 0.6774193548387096\n",
      "F-Score: 0.626865671641791\n",
      "Epoch 0\n",
      "Epoch 50\n",
      "Epoch 100\n",
      "Epoch 150\n",
      "Epoch 200\n",
      "Epoch 250\n",
      "Epoch 300\n",
      "Epoch 350\n",
      "Epoch 400\n",
      "Epoch 450\n",
      "Epoch 500\n",
      "Epoch 550\n",
      "Epoch 600\n",
      "Epoch 650\n",
      "Epoch 700\n",
      "Epoch 750\n",
      "Epoch 800\n",
      "Epoch 850\n",
      "Epoch 900\n",
      "Epoch 950\n",
      "[5, 3] 1000 2\n",
      "Accuracy: 0.68\n",
      "Precision: 0.6875\n",
      "F-Score: 0.6470588235294118\n",
      "Epoch 0\n",
      "Epoch 50\n",
      "Epoch 100\n",
      "Epoch 150\n",
      "Epoch 200\n",
      "Epoch 250\n",
      "Epoch 300\n",
      "Epoch 350\n",
      "Epoch 400\n",
      "Epoch 450\n",
      "Epoch 500\n",
      "Epoch 550\n",
      "Epoch 600\n",
      "Epoch 650\n",
      "Epoch 700\n",
      "Epoch 750\n",
      "Epoch 800\n",
      "Epoch 850\n",
      "Epoch 900\n",
      "Epoch 950\n",
      "[7, 5, 3, 1] 1000 2\n",
      "Accuracy: 0.6666666666666666\n",
      "Precision: 0.7037037037037037\n",
      "F-Score: 0.6031746031746033\n",
      "Epoch 0\n",
      "Epoch 50\n",
      "Epoch 100\n",
      "Epoch 150\n",
      "Epoch 200\n",
      "Epoch 250\n",
      "Epoch 300\n",
      "Epoch 350\n",
      "Epoch 400\n",
      "Epoch 450\n",
      "Epoch 500\n",
      "Epoch 550\n",
      "Epoch 600\n",
      "Epoch 650\n",
      "Epoch 700\n",
      "Epoch 750\n",
      "Epoch 800\n",
      "Epoch 850\n",
      "Epoch 900\n",
      "Epoch 950\n",
      "[8, 4] 1000 2\n",
      "Accuracy: 0.6933333333333334\n",
      "Precision: 0.782608695652174\n",
      "F-Score: 0.6101694915254238\n",
      "Epoch 0\n",
      "Epoch 50\n",
      "Epoch 100\n",
      "Epoch 150\n",
      "Epoch 200\n",
      "Epoch 250\n",
      "Epoch 300\n",
      "Epoch 350\n",
      "Epoch 400\n",
      "Epoch 450\n",
      "Epoch 500\n",
      "Epoch 550\n",
      "Epoch 600\n",
      "Epoch 650\n",
      "Epoch 700\n",
      "Epoch 750\n",
      "Epoch 800\n",
      "Epoch 850\n",
      "Epoch 900\n",
      "Epoch 950\n",
      "[5, 4, 3, 2, 1] 1000 2\n",
      "Accuracy: 0.68\n",
      "Precision: 0.6875\n",
      "F-Score: 0.6470588235294118\n",
      "Epoch 0\n",
      "Epoch 50\n",
      "Epoch 100\n",
      "Epoch 150\n",
      "Epoch 200\n",
      "Epoch 250\n",
      "Epoch 300\n",
      "Epoch 350\n",
      "Epoch 400\n",
      "Epoch 450\n",
      "Epoch 500\n",
      "Epoch 550\n",
      "Epoch 600\n",
      "Epoch 650\n",
      "Epoch 700\n",
      "Epoch 750\n",
      "Epoch 800\n",
      "Epoch 850\n",
      "Epoch 900\n",
      "Epoch 950\n",
      "[5] 1000 2\n",
      "Accuracy: 0.68\n",
      "Precision: 0.6875\n",
      "F-Score: 0.6470588235294118\n",
      "Epoch 0\n",
      "Epoch 50\n",
      "Epoch 100\n",
      "Epoch 150\n",
      "Epoch 200\n",
      "Epoch 250\n",
      "Epoch 300\n",
      "Epoch 350\n",
      "Epoch 400\n",
      "Epoch 450\n",
      "Epoch 500\n",
      "Epoch 550\n",
      "Epoch 600\n",
      "Epoch 650\n",
      "Epoch 700\n",
      "Epoch 750\n",
      "Epoch 800\n",
      "Epoch 850\n",
      "Epoch 900\n",
      "Epoch 950\n",
      "[9, 6, 3] 1000 2\n",
      "Accuracy: 0.6933333333333334\n",
      "Precision: 0.7096774193548387\n",
      "F-Score: 0.6567164179104478\n",
      "Epoch 0\n",
      "Epoch 50\n",
      "Epoch 100\n",
      "Epoch 150\n",
      "Epoch 200\n",
      "Epoch 250\n",
      "Epoch 300\n",
      "Epoch 350\n",
      "Epoch 400\n",
      "Epoch 450\n",
      "Epoch 500\n",
      "Epoch 550\n",
      "Epoch 600\n",
      "Epoch 650\n",
      "Epoch 700\n",
      "Epoch 750\n",
      "Epoch 800\n",
      "Epoch 850\n",
      "Epoch 900\n",
      "Epoch 950\n",
      "[10, 8, 6, 4, 2] 1000 2\n",
      "Accuracy: 0.68\n",
      "Precision: 0.6875\n",
      "F-Score: 0.6470588235294118\n",
      "Epoch 0\n",
      "Epoch 50\n",
      "Epoch 100\n",
      "Epoch 150\n",
      "Epoch 200\n",
      "Epoch 250\n",
      "Epoch 300\n",
      "Epoch 350\n",
      "Epoch 400\n",
      "Epoch 450\n",
      "Epoch 500\n",
      "Epoch 550\n",
      "Epoch 600\n",
      "Epoch 650\n",
      "Epoch 700\n",
      "Epoch 750\n",
      "Epoch 800\n",
      "Epoch 850\n",
      "Epoch 900\n",
      "Epoch 950\n",
      "[7, 1] 1000 2\n",
      "Accuracy: 0.6933333333333334\n",
      "Precision: 0.7241379310344828\n",
      "F-Score: 0.6461538461538462\n",
      "Epoch 0\n",
      "Epoch 50\n",
      "Epoch 100\n",
      "Epoch 150\n",
      "Epoch 200\n",
      "Epoch 250\n",
      "Epoch 300\n",
      "Epoch 350\n",
      "Epoch 400\n",
      "Epoch 450\n",
      "Epoch 500\n",
      "Epoch 550\n",
      "Epoch 600\n",
      "Epoch 650\n",
      "Epoch 700\n",
      "Epoch 750\n",
      "Epoch 800\n",
      "Epoch 850\n",
      "Epoch 900\n",
      "Epoch 950\n",
      "[8, 5, 2] 1000 2\n",
      "Accuracy: 0.68\n",
      "Precision: 0.6875\n",
      "F-Score: 0.6470588235294118\n"
     ]
    }
   ],
   "source": [
    "epochs = 1000\n",
    "learning_rate = 2\n",
    "layers = [[6, 6, 6], [8, 8, 8], [5, 3], [7, 5, 3, 1], [8, 4], [5, 4, 3, 2, 1], [5], [9, 6, 3], [10, 8, 6, 4, 2], [7, 1], [8, 5, 2]]\n",
    "\n",
    "for layer in layers:\n",
    "    create_neuron_network(25, [15, 8], 1)\n",
    "    train(X_train, Y_train, epochs, learning_rate)\n",
    "    print(layer, epochs, learning_rate)\n",
    "    calculate_metrics()"
   ]
  }
 ],
 "metadata": {
  "kernelspec": {
   "display_name": "Python 3",
   "language": "python",
   "name": "python3"
  },
  "language_info": {
   "codemirror_mode": {
    "name": "ipython",
    "version": 3
   },
   "file_extension": ".py",
   "mimetype": "text/x-python",
   "name": "python",
   "nbconvert_exporter": "python",
   "pygments_lexer": "ipython3",
   "version": "3.11.0"
  }
 },
 "nbformat": 4,
 "nbformat_minor": 5
}
